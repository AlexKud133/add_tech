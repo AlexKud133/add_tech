{
 "cells": [
  {
   "cell_type": "markdown",
   "metadata": {},
   "source": [
    "# Оптимизация параметров устройства при изготовлении шар-баллона при помощи нейронной сети\n",
    "\n",
    "ВКР Кудрявцева А.В. - МИСиС ИТКН МИВТ-2020-8-16"
   ]
  },
  {
   "cell_type": "markdown",
   "metadata": {},
   "source": [
    "## Состав и последовательность работы:\n",
    "\n",
    "1.Постановка и описание задачи\n",
    "\n",
    "2.Загрузка (установка) библиотек и модулей\n",
    "\n",
    "3.Инициализация входных данных\n",
    "\n",
    "4.Подготовка данных для работы с учётом зависимостей\n",
    "\n",
    "5.Построение модели\n",
    "\n",
    "6.Обучение модели для поиска зависимостей (с учителем, регрессионнный анализ)\n",
    "\n",
    "7.Использование обученной модели для максимизации выходных данных от входных\n",
    "\n",
    "8.Визуализация\n",
    "\n",
    "9.Анализ результата и выводы"
   ]
  },
  {
   "cell_type": "markdown",
   "metadata": {},
   "source": [
    "## 1.Постановка и описание задачи\n",
    "\n",
    "Методом электронно-лучевой наплавки проволоки из сплава титана ВТ6 в вакууме на затравке (полдожке) послойно наплавляется изделие в виде полусферы. Далее после окончания наплавки изделие остывает, механически обрабатывается и сваривается с аналогичным изделием, в результате чего получается шар-баллон, который далее используется в разных устройствах и изделиях, для работы под давлением. Перед началом наплавки создаётся 3D модель, в которой задаются основные геометрические параметры, а также получается приближённая оценка механических характеристик будущего изделия таких как прочность, упругость и другие. Однако, такая оценка механических характеристик не учитывает некоторые параметры изготовления, приводящие в отклонениям при изготовлении полусферы шар-баллона, таким как тепловые деформации начальных слоёв, пористость поверхности, параметры прочности, ниже заявленных. Задача состоит в том, чтобы найти зависимости температур тела изделия в разных точках в процессе изготовления от таких входных параметров как ускоряющее напряжение, сила тока фокусировки, скорость наплавки, сорость подачи проволоки, толщина стенки изделия, с тем, чтобы в дальнейшем подбирать такие режимы изменения входных параметров. Это возможно позволит находить оптимальные температурные режимы наплавки. В конечном итоге, необходимо подтвердить или опровергнуть гипотезу, что возможно смоделировать процессы термического упрочнения изделия прямо в процессе производства за счёт контроля и задания температур во время наплавки с помощью входных параметров."
   ]
  },
  {
   "cell_type": "markdown",
   "metadata": {},
   "source": [
    "## 2.Загрузка и установка библиотек"
   ]
  },
  {
   "cell_type": "code",
   "execution_count": 1,
   "metadata": {},
   "outputs": [],
   "source": [
    "!pip install bokeh -qq"
   ]
  },
  {
   "cell_type": "code",
   "execution_count": 2,
   "metadata": {},
   "outputs": [
    {
     "name": "stdout",
     "output_type": "stream",
     "text": [
      "WARNING:tensorflow:From C:\\ProgramData\\Anaconda3\\lib\\site-packages\\tensorflow\\python\\compat\\v2_compat.py:96: disable_resource_variables (from tensorflow.python.ops.variable_scope) is deprecated and will be removed in a future version.\n",
      "Instructions for updating:\n",
      "non-resource variables are not supported in the long term\n"
     ]
    }
   ],
   "source": [
    "# base\n",
    "import random as rd\n",
    "import pandas as pd\n",
    "import numpy as np\n",
    "import random \n",
    "import os\n",
    "import warnings\n",
    "\n",
    "#sklearn\n",
    "from sklearn import preprocessing as pp\n",
    "from sklearn.model_selection import train_test_split\n",
    "\n",
    "import math\n",
    "from itertools import product\n",
    "\n",
    "#scipy\n",
    "from scipy.optimize import *\n",
    "from scipy.integrate import quad\n",
    "import matplotlib.pyplot as plt \n",
    "from scipy.interpolate import griddata\n",
    "\n",
    "# visualize\n",
    "from mpl_toolkits.mplot3d import Axes3D\n",
    "from matplotlib.ticker import LinearLocator, FormatStrFormatter\n",
    "\n",
    "#torch\n",
    "import torch\n",
    "\n",
    "# TF\n",
    "import tensorflow.compat.v1 as tf\n",
    "tf.disable_v2_behavior() \n",
    "import tensorflow as tf\n",
    "import tensorflow.keras.layers as L\n",
    "from tensorflow.keras import optimizers, Sequential, Model\n",
    "\n",
    "# подключаем garbage collector\n",
    "import gc\n",
    "\n",
    "\n",
    "from sklearn.linear_model import SGDRegressor\n",
    "SEED = 42\n",
    "import numpy as np\n",
    "from sklearn.linear_model import SGDRegressor\n",
    "from sklearn.pipeline import make_pipeline\n",
    "from sklearn.preprocessing import StandardScaler\n",
    "\n",
    "from sklearn.svm import SVR\n",
    "from sklearn.model_selection import cross_val_score\n",
    "from sklearn.tree import DecisionTreeRegressor\n",
    "from sklearn.linear_model import LinearRegression, Ridge, Lasso\n",
    "\n",
    "import numpy as np; np.random.seed(SEED)\n",
    "import seaborn as sns; sns.set_theme()\n",
    "\n",
    "from scipy.stats import skewnorm  \n",
    "\n",
    "from sklearn.model_selection import train_test_split\n",
    "from sklearn.metrics import mean_squared_error, r2_score,mean_absolute_error\n",
    "from sklearn.multioutput import MultiOutputRegressor\n",
    "\n",
    "import seaborn as sns\n",
    "import numpy as np\n",
    "import pandas as pd\n",
    "import matplotlib.pyplot as plt\n",
    "\n",
    "#parallel\n",
    "from joblib import Parallel, delayed\n",
    "import multiprocessing\n",
    "\n",
    "# интересная статья с инстурментами для визуализации \n",
    "# https://mode.com/blog/python-data-visualization-libraries/\n",
    "# bokeh for visualization\n",
    "import bokeh\n",
    "from bokeh.io import show\n",
    "from bokeh.palettes import Turbo256\n",
    "from bokeh.plotting import figure\n",
    "from bokeh.transform import linear_cmap\n",
    "\n",
    "# uuid generation\n",
    "import uuid\n",
    "\n",
    "#MLP\n",
    "# https://scikit-learn.org/stable/modules/generated/sklearn.neural_network.MLPRegressor.html\n",
    "from sklearn.neural_network import MLPRegressor"
   ]
  },
  {
   "cell_type": "markdown",
   "metadata": {},
   "source": [
    "## 3. Анализ данных (EDA)"
   ]
  },
  {
   "cell_type": "markdown",
   "metadata": {},
   "source": [
    "## 3.1 Инициализация входных данных\n",
    "\n",
    "Заказчиком были переданы следующие данные:\n",
    "\n",
    "UsNapr=7000 !ускоряющее напряжение, В\n",
    "\n",
    "SilaToka=90e-3 !сила тока, А\n",
    "\n",
    "PPuchka=UsNaprSilaToka0.95*16 !мощность пучка при развертке цилиндрической\n",
    "\n",
    "DLucha=15e-3 !диаметр развертки луча, м\n",
    "\n",
    "elemPerLuch=2 !число элементов в развертке луча, должно быть больше 1\n",
    "\n",
    "V=8e-3 !м/сек скорость наплавки\n",
    "\n",
    "delta=0.8e-3 !высота элемента в м - constanta\n",
    "\n",
    "ElStep=DLucha/elemPerLuch = 75e-4 !размер геометрического елемента по - окружности, в м\n",
    "\n",
    "R_1=250e-3 !внутренний диаметр сферы - constanta\n",
    "\n",
    "T_1=15e-3 !толщина стенки сферы - constanta\n",
    "\n",
    "predel_ug=90 !Угол, до которого сфера разбивается на слои\n",
    "\n",
    "DZatravki=135e-3 !Диаметр затравки, м\n",
    "\n",
    "HZatravki=60e-3 !Высота затравки, м\n",
    "\n",
    "HKoroni=90e-3 !Высота короны (должна быть обязательно)\n",
    "\n",
    "HNachalaRosta=10e-3 !Высота начала роста полусферы от торца затравки\n",
    "\n",
    "TimeShift = 6 !Время наплавки во время смены, час\n",
    "\n",
    "TimeSverhUroch= 2 !Время наплавки сверхурочно, в случае неуспевания, час - constanta\n",
    "\n",
    "TimeOstiv=10 !Время остывания между сменами,час - constanta\n",
    "\n",
    "TimePeredIzvlech=3 !Время остывания перед извлечением, час - constanta\n",
    "\n",
    "TimeProgrev=0.3 !Время прогрева, час - constanta\n",
    "\n",
    "которые были разделены на константы (3.1) и входные параметры (3.2), которые подлежат регулировке\n",
    "\n",
    "Замечание: все параметры в метрических единицах Си, температура - в К. Когда производится выражение в длугие единицы (для использования соотнешений из некоторых источников) - об этом делается ссылка."
   ]
  },
  {
   "cell_type": "markdown",
   "metadata": {},
   "source": [
    "## 3.2 Постоянные параметры (константы), включая параметры сплава ВТ6"
   ]
  },
  {
   "cell_type": "code",
   "execution_count": 3,
   "metadata": {},
   "outputs": [],
   "source": [
    "DLucha=15e-3                               # диаметр развертки луча, м    \n",
    "R_1=250e-3                                 # внутренний диаметр сферы - constanta\n",
    "ro_bt6 = 4430000.                          # плотность сплава ВТ6 г/куб.м\n",
    "eps = 0.98                                 # к-т использования титана в DED-EBM процессе\n",
    "q_bt6 = 0.619                              # удельная теплоёмкость сплава ВТ6, Дж/(г*К)\n",
    "lambda_bt6_0 = 8.8                         # теплопроводность BT6 при 300К, Вт/(м*К)\n",
    "b = 0.026                                  # к-т теплопроводности, вычислен по справочным данным, Вт/(м*К^2)\n",
    "T0 = 300.0                                 # температура 20°С (300К)\n",
    "fi = 5.                                    # шаг деления окружности на сегменты сетки (сеточное представление функции), градусы\n",
    "TimeShift = 21600.                         # время наплавки всего изделия (6 часов), сек.\n",
    "qv = 3.125e+4                              # плотность мощности источника теплоты Вт/куб.м (при мощности луча 30 кВт)\n",
    "delta_tau = 1.0                            # минимальный временной отсчёт, сек\n",
    "q_delta = 18.8959                          # значение теплового излучения нагретого сплава ВТ6 при t_с_bt6, ВТ/кв.м\n",
    "l_c_bt6 = 358                              # удельная теплота плавления ВТ6, Дж/г\n",
    "с = 0.54                                   # удельная тепломкость ВТ6, Дж/гК\n",
    "d = 0.002                                  # диаметр проволоки, мм      \n",
    "delta_tau = 1.0                            # шаг дискретезации, сек\n",
    "DZH = 0.06                                 # диаметр отверстия в изделии, м"
   ]
  },
  {
   "cell_type": "markdown",
   "metadata": {},
   "source": [
    "## 3.3 Входные параметры (регулируемые) для эксперимента"
   ]
  },
  {
   "cell_type": "code",
   "execution_count": 5,
   "metadata": {},
   "outputs": [],
   "source": [
    "# для эксперимента исследуется 1-4\n",
    "elemPerLuch = 1                    # число элементов в развертке луча (дорожек наплавки при формировании стенки), должно быть больше 1 - опеделяет ширину элемента\n",
    "\n",
    "# для эксперимента исследуется от 1е-3 до 25e-3(?)\n",
    "V = 8e-3                           # м/сек скорость наплавки\n",
    "\n",
    "# для эксперимента исследуется от 0.4e-3 до 2e-3(?)\n",
    "delta = 1.0e-3                     # высота элемента в м\n",
    "\n",
    "# для эксперимента исследуется от 1923,15K до 2300K(?)\n",
    "t_с_bt6 = 1923.15                  # температура плавления °К (1650°С -  достигается значением токов), все вычисления - в Кельвинах!\n",
    "\n",
    "# для эксперимента исследуется от 0,015 до 0,025(?)\n",
    "h1=15e-3                          # толщина стенки сферы, м\n",
    "\n",
    "# для эксперимента исследуется от 0.3 до 0.5\n",
    "Ib = 0.5                           # ток луча, А\n",
    "\n",
    "# для эксперимента исследуется от 50000 до 60000 В\n",
    "Ub = 60000                         # ускоряющее напряжение, В"
   ]
  },
  {
   "cell_type": "code",
   "execution_count": 6,
   "metadata": {},
   "outputs": [],
   "source": [
    "# вычисление некоторыех дополнительных параметров\n",
    "\n",
    "ElStep=DLucha/elemPerLuch                  # размер геометрического элемента (ширина элемента), м\n",
    "delta_x = delta_tau * V                    # размер геометрического элемента (длина элемента), м\n",
    "delta_v = delta_x * ElStep * delta         # объём единичного елемента наплавки, куб.м\n",
    "delta_m = delta_v * ro_bt6                 # масса единичного элемент анаплавки, г\n",
    "L = TimeShift * V * elemPerLuch            # длина всего слоя наплавки, м\n",
    "summ_delta_x = L / delta_x * elemPerLuch   # всего единичных элементов в изделии, шт.                 \n",
    "M = delta_m * summ_delta_x                 # масса всего изделия, г\n",
    "T1 = t_с_bt6                               # задаём для расчётом начальную температуру t1 как температуру плавления ВТ6 (но может быть и выше)\n",
    "a0=0.00025                                 # аппроксимация по точкам (грубая)"
   ]
  },
  {
   "cell_type": "code",
   "execution_count": 7,
   "metadata": {},
   "outputs": [
    {
     "data": {
      "text/plain": [
       "(125, 0.0314, 0.12134661099511597, 4, 0.06)"
      ]
     },
     "execution_count": 7,
     "metadata": {},
     "output_type": "execute_result"
    }
   ],
   "source": [
    "h_DZH = math.sqrt((0.5*R_1)**2-(0.5*DZH)**2)   # высота от точки на сечении по диаметру отверстия полусферы на затравке до центра сферы (полусфера наплавляется не с 0 точки)\n",
    "ky = math.ceil((0.5*R_1 - h_DZH)/delta)        # количество \"пропускаемых\" слоёв т.к. полусфера наплавляется не с 0 точки (не \"от полюса\")\n",
    "n = math.ceil(0.5*R_1/delta) \n",
    "r = round(math.sqrt((0.5*R_1)**2 - ((n-ky)*delta)**2), 4)\n",
    "n,r, h_DZH, ky, DZH"
   ]
  },
  {
   "cell_type": "markdown",
   "metadata": {},
   "source": [
    "## 3.4 Вспомогательные функции"
   ]
  },
  {
   "cell_type": "code",
   "execution_count": 8,
   "metadata": {},
   "outputs": [],
   "source": [
    "# Set seeds to make the experiment more reproducible.\n",
    "def seed_everything(seed=42):\n",
    "    random.seed(seed)\n",
    "    np.random.seed(seed)\n",
    "    tf.random.set_seed(seed)\n",
    "    os.environ['PYTHONHASHSEED'] = str(seed)\n",
    "    os.environ['TF_DETERMINISTIC_OPS'] = '1'\n",
    "\n",
    "seed_everything(SEED)\n",
    "warnings.filterwarnings('ignore')"
   ]
  },
  {
   "cell_type": "code",
   "execution_count": null,
   "metadata": {},
   "outputs": [],
   "source": [
    "def plot_temperature_gradient(x, y):\n",
    "\n",
    "    # выбираем цветовую палитру\n",
    "    mapper = linear_cmap(field_name=\"y\", palette=Turbo256, low=min(y), high=max(y))\n",
    "\n",
    "    # create plot\n",
    "    p = figure(width=1200, height=750)\n",
    "\n",
    "    # create circle renderer with color mapper\n",
    "    p.circle(x, y, color=mapper, size=10)\n",
    "\n",
    "    # обязательная строка, чтобы график рисовался в google colab\n",
    "    bokeh.io.output_notebook()\n",
    "    show(p)"
   ]
  },
  {
   "cell_type": "code",
   "execution_count": 9,
   "metadata": {},
   "outputs": [
    {
     "data": {
      "text/plain": [
       "1925.4"
      ]
     },
     "execution_count": 9,
     "metadata": {},
     "output_type": "execute_result"
    }
   ],
   "source": [
    "# некоторые физические параметры зависят от температуры материала - сразу зададим их\n",
    "\n",
    "# значение теплопроводности ВТ6 (Вт/(мК))\n",
    "def lambda_bt6(T1, T0, b):\n",
    "    return lambda_bt6_0 + (b * (T1 - T0)/2)\n",
    "\n",
    "# для упрощения иногда применяется среднее значение теплопроводности (в работе не применяется - doesn't use for a while)\n",
    "lambdabt6 = 18.0\n",
    "\n",
    "# среднее интегральное значение теплопроводности ВТ6 (косвенно уточняется мощность источника)\n",
    "def Llambda_bt6(T1i,T2):                         \n",
    "    if abs(T1i-T2)<0.001:\n",
    "        z=lambda_bt6(T1i, T0, b)\n",
    "    else:\n",
    "        z=(1/(T2-T1i))*(quad(lambda T1i: lambda_bt6(T1i, T0, b), T1i,T2)[0])\n",
    "    return z\n",
    "\n",
    "# значение теплоёмкости ВТ6 (Дж/(гК))\n",
    "def c_bt6(T):\n",
    "    return a0*T+с\n",
    "\n",
    "\n",
    "cbt6 = 0.7               # для упрощения возьмём среднее значение теплоёмкости (в работе не применяется - doesn't use for a while)\n",
    "\n",
    "r1=0.075                 # радиус слоя (здесь для затравки по оси с толщиной стенки 15мм)\n",
    "l0 = 2*math.pi*r1        # длина начального слоя наплавки (задаётся технологически)\n",
    "l=l0\n",
    "T2=T0 \n",
    "                                        \n",
    "T3=round(fsolve(lambda T3:T3-T1-(qv*r1**2)/(4*Llambda_bt6(T1,T2)) ,T1)[0],1)\n",
    "T3                      # заданное значение температуры поверхности затравки"
   ]
  },
  {
   "cell_type": "code",
   "execution_count": 10,
   "metadata": {},
   "outputs": [],
   "source": [
    "# размер выборки - nn (выбирается в ручную)\n",
    "\n",
    "nn = 2000\n",
    "\n",
    "# функция генерации случайных значени в рамках диапазона с учётом плотности распределения\n",
    "def generator(mean, min, max, nn):\n",
    "\n",
    "  # сгенерируем массив с данными\n",
    "    if mean-min < (max-min)/2:\n",
    "        a = 40\n",
    "    elif mean-min == (max-min)/2:\n",
    "        a= 0\n",
    "    else:\n",
    "        a= -40\n",
    "        pre = skewnorm.rvs(a = a, # скошенность (skewness)\n",
    "                           loc = mean, # медиана\n",
    "                           scale = mean-min, # отклонение от среднего\n",
    "                           size = n*10, # размер генерируемого массива\n",
    "                           random_state = 42)\n",
    "    prev = []\n",
    " \n",
    "  # зададим количество и размер выборок\n",
    "    n_samples = nn\n",
    "    sample_size = 10\n",
    " \n",
    "  # в цикле будем формировать выборки\n",
    "    for i in range(n_samples):\n",
    " \n",
    "  # путем отбора нужного количества элементов из генеральной совокупности\n",
    "        sample = np.random.choice(pre, sample_size, replace = True)\n",
    " \n",
    "  # для каждой выборки рассчитаем среднее значение и поместим в список выборочных средних\n",
    "        prev.append(np.mean(np.fabs(sample)))\n",
    "    return np.array(prev).reshape(-1, 1)"
   ]
  },
  {
   "cell_type": "code",
   "execution_count": null,
   "metadata": {},
   "outputs": [],
   "source": []
  }
 ],
 "metadata": {
  "kernelspec": {
   "display_name": "Python 3",
   "language": "python",
   "name": "python3"
  },
  "language_info": {
   "codemirror_mode": {
    "name": "ipython",
    "version": 3
   },
   "file_extension": ".py",
   "mimetype": "text/x-python",
   "name": "python",
   "nbconvert_exporter": "python",
   "pygments_lexer": "ipython3",
   "version": "3.8.5"
  }
 },
 "nbformat": 4,
 "nbformat_minor": 4
}
